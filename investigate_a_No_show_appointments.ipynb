{
 "cells": [
  {
   "cell_type": "markdown",
   "metadata": {},
   "source": [
    "\n",
    "# Project: Analyser et explorer les données No-show appointments\n",
    "\n",
    "\n",
    "## Plan\n",
    "<ul>\n",
    "<li><a href=\"#intro\">Introduction</a></li>\n",
    "<li><a href=\"#wrangling\">Traitement des données</a></li>\n",
    "<li><a href=\"#eda\">Analyse exploratoire des données</a></li>\n",
    "<li><a href=\"#conclusions\">Conclusions</a></li>\n",
    "<li><a href=\"#limites\">Limites</a></li>\n",
    "</ul>"
   ]
  },
  {
   "cell_type": "markdown",
   "metadata": {},
   "source": [
    "<a id='intro'></a>\n",
    "## Introduction\n",
    "\n",
    "![](https://www.sumoscheduler.com/wp-content/uploads/2014/06/no_show.jpg)\n",
    "\n",
    "> Cet ensemble de données ([voir ici](https://www.kaggle.com/datasets/joniarroba/noshowappointments)) recueille des informations provenant de 100 000 rendez-vous médicaux au Brésil et se concentre sur la question de savoir si les patients se présentent ou non à leur rendez-vous. Un certain nombre de caractéristiques du patient sont incluses dans chaque ligne.\n",
    ">- 'ScheduledDay' nous indique le jour de quel jour le patient a fixé son rendez-vous.\n",
    ">- 'Neighborhood' (quartier) indique la localisation de l'hôpital.\n",
    ">- 'Scholarship' indique si le patient est ou non inscrit à l'aide sociale brésilienne programme brésilien Bolsa Família.\n",
    ">- La dernière colonne ('No-show') indique \"Non\" si le patient s'est présenté à son rendez-vous, et \" Oui \" s'il ne s'est pas présenté.\n",
    "\n",
    "> Dans ce projet nous allons repondre aux questions suivantes:\n",
    ">- Quel est la proportion des patients qui ne se sont pas présentés aux rendez-vous ?\n",
    ">- Quel est le nombre de personnes qui ont bénéficiées de l'aide sociale ?\n",
    ">- Quel est la proportion des hommes et des femmes?\n",
    ">- Quel est l'effectif des non presents aux rendez-vous par sexe?\n",
    ">- Quel est l'effectif des non presents aux rendez-vous qui ont recu une bourse?\n",
    ">- Quel est la proportion des patients ayant reçu 1 ou plusieurs SMS par non presenté?\n",
    ">- Qui des personnes atteintes des malidies d'hypertension, de diabète et d'alcoolisme ont le plus honoreux à leur rendez-vous?"
   ]
  },
  {
   "cell_type": "code",
   "execution_count": 1,
   "metadata": {},
   "outputs": [],
   "source": [
    "# Chargement des librairies necessaires pour notre travail\n",
    "\n",
    "import pandas as pd\n",
    "import numpy as np\n",
    "import matplotlib.pyplot as plt\n",
    "import seaborn as sns\n",
    "%matplotlib inline"
   ]
  },
  {
   "cell_type": "markdown",
   "metadata": {},
   "source": [
    "<a id='wrangling'></a>\n",
    "## Traitement des données\n",
    "\n",
    "\n",
    "### Caractéristiques générales"
   ]
  },
  {
   "cell_type": "code",
   "execution_count": 2,
   "metadata": {},
   "outputs": [],
   "source": [
    "#Importation des données\n",
    "df = pd.read_csv('noshowappointments-kagglev2-may-2016.csv')"
   ]
  },
  {
   "cell_type": "code",
   "execution_count": 3,
   "metadata": {
    "scrolled": true
   },
   "outputs": [
    {
     "data": {
      "text/html": [
       "<div>\n",
       "<style scoped>\n",
       "    .dataframe tbody tr th:only-of-type {\n",
       "        vertical-align: middle;\n",
       "    }\n",
       "\n",
       "    .dataframe tbody tr th {\n",
       "        vertical-align: top;\n",
       "    }\n",
       "\n",
       "    .dataframe thead th {\n",
       "        text-align: right;\n",
       "    }\n",
       "</style>\n",
       "<table border=\"1\" class=\"dataframe\">\n",
       "  <thead>\n",
       "    <tr style=\"text-align: right;\">\n",
       "      <th></th>\n",
       "      <th>PatientId</th>\n",
       "      <th>AppointmentID</th>\n",
       "      <th>Gender</th>\n",
       "      <th>ScheduledDay</th>\n",
       "      <th>AppointmentDay</th>\n",
       "      <th>Age</th>\n",
       "      <th>Neighbourhood</th>\n",
       "      <th>Scholarship</th>\n",
       "      <th>Hipertension</th>\n",
       "      <th>Diabetes</th>\n",
       "      <th>Alcoholism</th>\n",
       "      <th>Handcap</th>\n",
       "      <th>SMS_received</th>\n",
       "      <th>No-show</th>\n",
       "    </tr>\n",
       "  </thead>\n",
       "  <tbody>\n",
       "    <tr>\n",
       "      <th>0</th>\n",
       "      <td>2.987250e+13</td>\n",
       "      <td>5642903</td>\n",
       "      <td>F</td>\n",
       "      <td>2016-04-29T18:38:08Z</td>\n",
       "      <td>2016-04-29T00:00:00Z</td>\n",
       "      <td>62</td>\n",
       "      <td>JARDIM DA PENHA</td>\n",
       "      <td>0</td>\n",
       "      <td>1</td>\n",
       "      <td>0</td>\n",
       "      <td>0</td>\n",
       "      <td>0</td>\n",
       "      <td>0</td>\n",
       "      <td>No</td>\n",
       "    </tr>\n",
       "    <tr>\n",
       "      <th>1</th>\n",
       "      <td>5.589978e+14</td>\n",
       "      <td>5642503</td>\n",
       "      <td>M</td>\n",
       "      <td>2016-04-29T16:08:27Z</td>\n",
       "      <td>2016-04-29T00:00:00Z</td>\n",
       "      <td>56</td>\n",
       "      <td>JARDIM DA PENHA</td>\n",
       "      <td>0</td>\n",
       "      <td>0</td>\n",
       "      <td>0</td>\n",
       "      <td>0</td>\n",
       "      <td>0</td>\n",
       "      <td>0</td>\n",
       "      <td>No</td>\n",
       "    </tr>\n",
       "    <tr>\n",
       "      <th>2</th>\n",
       "      <td>4.262962e+12</td>\n",
       "      <td>5642549</td>\n",
       "      <td>F</td>\n",
       "      <td>2016-04-29T16:19:04Z</td>\n",
       "      <td>2016-04-29T00:00:00Z</td>\n",
       "      <td>62</td>\n",
       "      <td>MATA DA PRAIA</td>\n",
       "      <td>0</td>\n",
       "      <td>0</td>\n",
       "      <td>0</td>\n",
       "      <td>0</td>\n",
       "      <td>0</td>\n",
       "      <td>0</td>\n",
       "      <td>No</td>\n",
       "    </tr>\n",
       "    <tr>\n",
       "      <th>3</th>\n",
       "      <td>8.679512e+11</td>\n",
       "      <td>5642828</td>\n",
       "      <td>F</td>\n",
       "      <td>2016-04-29T17:29:31Z</td>\n",
       "      <td>2016-04-29T00:00:00Z</td>\n",
       "      <td>8</td>\n",
       "      <td>PONTAL DE CAMBURI</td>\n",
       "      <td>0</td>\n",
       "      <td>0</td>\n",
       "      <td>0</td>\n",
       "      <td>0</td>\n",
       "      <td>0</td>\n",
       "      <td>0</td>\n",
       "      <td>No</td>\n",
       "    </tr>\n",
       "    <tr>\n",
       "      <th>4</th>\n",
       "      <td>8.841186e+12</td>\n",
       "      <td>5642494</td>\n",
       "      <td>F</td>\n",
       "      <td>2016-04-29T16:07:23Z</td>\n",
       "      <td>2016-04-29T00:00:00Z</td>\n",
       "      <td>56</td>\n",
       "      <td>JARDIM DA PENHA</td>\n",
       "      <td>0</td>\n",
       "      <td>1</td>\n",
       "      <td>1</td>\n",
       "      <td>0</td>\n",
       "      <td>0</td>\n",
       "      <td>0</td>\n",
       "      <td>No</td>\n",
       "    </tr>\n",
       "  </tbody>\n",
       "</table>\n",
       "</div>"
      ],
      "text/plain": [
       "      PatientId  AppointmentID Gender          ScheduledDay  \\\n",
       "0  2.987250e+13        5642903      F  2016-04-29T18:38:08Z   \n",
       "1  5.589978e+14        5642503      M  2016-04-29T16:08:27Z   \n",
       "2  4.262962e+12        5642549      F  2016-04-29T16:19:04Z   \n",
       "3  8.679512e+11        5642828      F  2016-04-29T17:29:31Z   \n",
       "4  8.841186e+12        5642494      F  2016-04-29T16:07:23Z   \n",
       "\n",
       "         AppointmentDay  Age      Neighbourhood  Scholarship  Hipertension  \\\n",
       "0  2016-04-29T00:00:00Z   62    JARDIM DA PENHA            0             1   \n",
       "1  2016-04-29T00:00:00Z   56    JARDIM DA PENHA            0             0   \n",
       "2  2016-04-29T00:00:00Z   62      MATA DA PRAIA            0             0   \n",
       "3  2016-04-29T00:00:00Z    8  PONTAL DE CAMBURI            0             0   \n",
       "4  2016-04-29T00:00:00Z   56    JARDIM DA PENHA            0             1   \n",
       "\n",
       "   Diabetes  Alcoholism  Handcap  SMS_received No-show  \n",
       "0         0           0        0             0      No  \n",
       "1         0           0        0             0      No  \n",
       "2         0           0        0             0      No  \n",
       "3         0           0        0             0      No  \n",
       "4         1           0        0             0      No  "
      ]
     },
     "execution_count": 3,
     "metadata": {},
     "output_type": "execute_result"
    }
   ],
   "source": [
    "#Visualisation des premières observations\n",
    "df.head()"
   ]
  },
  {
   "cell_type": "code",
   "execution_count": 4,
   "metadata": {},
   "outputs": [
    {
     "data": {
      "text/html": [
       "<div>\n",
       "<style scoped>\n",
       "    .dataframe tbody tr th:only-of-type {\n",
       "        vertical-align: middle;\n",
       "    }\n",
       "\n",
       "    .dataframe tbody tr th {\n",
       "        vertical-align: top;\n",
       "    }\n",
       "\n",
       "    .dataframe thead th {\n",
       "        text-align: right;\n",
       "    }\n",
       "</style>\n",
       "<table border=\"1\" class=\"dataframe\">\n",
       "  <thead>\n",
       "    <tr style=\"text-align: right;\">\n",
       "      <th></th>\n",
       "      <th>PatientId</th>\n",
       "      <th>AppointmentID</th>\n",
       "      <th>Gender</th>\n",
       "      <th>ScheduledDay</th>\n",
       "      <th>AppointmentDay</th>\n",
       "      <th>Age</th>\n",
       "      <th>Neighbourhood</th>\n",
       "      <th>Scholarship</th>\n",
       "      <th>Hipertension</th>\n",
       "      <th>Diabetes</th>\n",
       "      <th>Alcoholism</th>\n",
       "      <th>Handcap</th>\n",
       "      <th>SMS_received</th>\n",
       "      <th>No-show</th>\n",
       "    </tr>\n",
       "  </thead>\n",
       "  <tbody>\n",
       "    <tr>\n",
       "      <th>110522</th>\n",
       "      <td>2.572134e+12</td>\n",
       "      <td>5651768</td>\n",
       "      <td>F</td>\n",
       "      <td>2016-05-03T09:15:35Z</td>\n",
       "      <td>2016-06-07T00:00:00Z</td>\n",
       "      <td>56</td>\n",
       "      <td>MARIA ORTIZ</td>\n",
       "      <td>0</td>\n",
       "      <td>0</td>\n",
       "      <td>0</td>\n",
       "      <td>0</td>\n",
       "      <td>0</td>\n",
       "      <td>1</td>\n",
       "      <td>No</td>\n",
       "    </tr>\n",
       "    <tr>\n",
       "      <th>110523</th>\n",
       "      <td>3.596266e+12</td>\n",
       "      <td>5650093</td>\n",
       "      <td>F</td>\n",
       "      <td>2016-05-03T07:27:33Z</td>\n",
       "      <td>2016-06-07T00:00:00Z</td>\n",
       "      <td>51</td>\n",
       "      <td>MARIA ORTIZ</td>\n",
       "      <td>0</td>\n",
       "      <td>0</td>\n",
       "      <td>0</td>\n",
       "      <td>0</td>\n",
       "      <td>0</td>\n",
       "      <td>1</td>\n",
       "      <td>No</td>\n",
       "    </tr>\n",
       "    <tr>\n",
       "      <th>110524</th>\n",
       "      <td>1.557663e+13</td>\n",
       "      <td>5630692</td>\n",
       "      <td>F</td>\n",
       "      <td>2016-04-27T16:03:52Z</td>\n",
       "      <td>2016-06-07T00:00:00Z</td>\n",
       "      <td>21</td>\n",
       "      <td>MARIA ORTIZ</td>\n",
       "      <td>0</td>\n",
       "      <td>0</td>\n",
       "      <td>0</td>\n",
       "      <td>0</td>\n",
       "      <td>0</td>\n",
       "      <td>1</td>\n",
       "      <td>No</td>\n",
       "    </tr>\n",
       "    <tr>\n",
       "      <th>110525</th>\n",
       "      <td>9.213493e+13</td>\n",
       "      <td>5630323</td>\n",
       "      <td>F</td>\n",
       "      <td>2016-04-27T15:09:23Z</td>\n",
       "      <td>2016-06-07T00:00:00Z</td>\n",
       "      <td>38</td>\n",
       "      <td>MARIA ORTIZ</td>\n",
       "      <td>0</td>\n",
       "      <td>0</td>\n",
       "      <td>0</td>\n",
       "      <td>0</td>\n",
       "      <td>0</td>\n",
       "      <td>1</td>\n",
       "      <td>No</td>\n",
       "    </tr>\n",
       "    <tr>\n",
       "      <th>110526</th>\n",
       "      <td>3.775115e+14</td>\n",
       "      <td>5629448</td>\n",
       "      <td>F</td>\n",
       "      <td>2016-04-27T13:30:56Z</td>\n",
       "      <td>2016-06-07T00:00:00Z</td>\n",
       "      <td>54</td>\n",
       "      <td>MARIA ORTIZ</td>\n",
       "      <td>0</td>\n",
       "      <td>0</td>\n",
       "      <td>0</td>\n",
       "      <td>0</td>\n",
       "      <td>0</td>\n",
       "      <td>1</td>\n",
       "      <td>No</td>\n",
       "    </tr>\n",
       "  </tbody>\n",
       "</table>\n",
       "</div>"
      ],
      "text/plain": [
       "           PatientId  AppointmentID Gender          ScheduledDay  \\\n",
       "110522  2.572134e+12        5651768      F  2016-05-03T09:15:35Z   \n",
       "110523  3.596266e+12        5650093      F  2016-05-03T07:27:33Z   \n",
       "110524  1.557663e+13        5630692      F  2016-04-27T16:03:52Z   \n",
       "110525  9.213493e+13        5630323      F  2016-04-27T15:09:23Z   \n",
       "110526  3.775115e+14        5629448      F  2016-04-27T13:30:56Z   \n",
       "\n",
       "              AppointmentDay  Age Neighbourhood  Scholarship  Hipertension  \\\n",
       "110522  2016-06-07T00:00:00Z   56   MARIA ORTIZ            0             0   \n",
       "110523  2016-06-07T00:00:00Z   51   MARIA ORTIZ            0             0   \n",
       "110524  2016-06-07T00:00:00Z   21   MARIA ORTIZ            0             0   \n",
       "110525  2016-06-07T00:00:00Z   38   MARIA ORTIZ            0             0   \n",
       "110526  2016-06-07T00:00:00Z   54   MARIA ORTIZ            0             0   \n",
       "\n",
       "        Diabetes  Alcoholism  Handcap  SMS_received No-show  \n",
       "110522         0           0        0             1      No  \n",
       "110523         0           0        0             1      No  \n",
       "110524         0           0        0             1      No  \n",
       "110525         0           0        0             1      No  \n",
       "110526         0           0        0             1      No  "
      ]
     },
     "execution_count": 4,
     "metadata": {},
     "output_type": "execute_result"
    }
   ],
   "source": [
    "#Visualisation des dernières observations\n",
    "df.tail()"
   ]
  },
  {
   "cell_type": "code",
   "execution_count": 5,
   "metadata": {},
   "outputs": [
    {
     "data": {
      "text/plain": [
       "(110527, 14)"
      ]
     },
     "execution_count": 5,
     "metadata": {},
     "output_type": "execute_result"
    }
   ],
   "source": [
    "#Dimension de la base\n",
    "df.shape"
   ]
  },
  {
   "cell_type": "code",
   "execution_count": 6,
   "metadata": {},
   "outputs": [
    {
     "name": "stdout",
     "output_type": "stream",
     "text": [
      "<class 'pandas.core.frame.DataFrame'>\n",
      "RangeIndex: 110527 entries, 0 to 110526\n",
      "Data columns (total 14 columns):\n",
      " #   Column          Non-Null Count   Dtype  \n",
      "---  ------          --------------   -----  \n",
      " 0   PatientId       110527 non-null  float64\n",
      " 1   AppointmentID   110527 non-null  int64  \n",
      " 2   Gender          110527 non-null  object \n",
      " 3   ScheduledDay    110527 non-null  object \n",
      " 4   AppointmentDay  110527 non-null  object \n",
      " 5   Age             110527 non-null  int64  \n",
      " 6   Neighbourhood   110527 non-null  object \n",
      " 7   Scholarship     110527 non-null  int64  \n",
      " 8   Hipertension    110527 non-null  int64  \n",
      " 9   Diabetes        110527 non-null  int64  \n",
      " 10  Alcoholism      110527 non-null  int64  \n",
      " 11  Handcap         110527 non-null  int64  \n",
      " 12  SMS_received    110527 non-null  int64  \n",
      " 13  No-show         110527 non-null  object \n",
      "dtypes: float64(1), int64(8), object(5)\n",
      "memory usage: 11.8+ MB\n"
     ]
    }
   ],
   "source": [
    "#info\n",
    "df.info()"
   ]
  },
  {
   "cell_type": "code",
   "execution_count": 7,
   "metadata": {
    "scrolled": true
   },
   "outputs": [
    {
     "data": {
      "text/plain": [
       "PatientId          62299\n",
       "AppointmentID     110527\n",
       "Gender                 2\n",
       "ScheduledDay      103549\n",
       "AppointmentDay        27\n",
       "Age                  104\n",
       "Neighbourhood         81\n",
       "Scholarship            2\n",
       "Hipertension           2\n",
       "Diabetes               2\n",
       "Alcoholism             2\n",
       "Handcap                5\n",
       "SMS_received           2\n",
       "No-show                2\n",
       "dtype: int64"
      ]
     },
     "execution_count": 7,
     "metadata": {},
     "output_type": "execute_result"
    }
   ],
   "source": [
    "#Nombre de valeur unique de chaque variable\n",
    "df.nunique()"
   ]
  },
  {
   "cell_type": "markdown",
   "metadata": {},
   "source": [
    "> **Remarque**: La variable Handicap est censé être une variable binaire, elle dit si vrai ou faux le passion est handicapé, elle devrait donc avoir deux valeurs uniques, mais nous constatons qu'elle a plus de 2 valeurs uniques (5 valeurs uniques plus précisement). Ne sachant pas la modalité d'appartenance réel des autres modalités qui se sont ajoutées, nous allons dans la suite supprimé cette variable."
   ]
  },
  {
   "cell_type": "code",
   "execution_count": 8,
   "metadata": {
    "scrolled": true
   },
   "outputs": [
    {
     "data": {
      "text/plain": [
       "0"
      ]
     },
     "execution_count": 8,
     "metadata": {},
     "output_type": "execute_result"
    }
   ],
   "source": [
    "#Nombre de ligne dupliqué\n",
    "df.duplicated().sum()"
   ]
  },
  {
   "cell_type": "markdown",
   "metadata": {},
   "source": [
    "> **Remarque**: Notre base de données contient 110527 observations et 14 variables. Après observation du type de chaque variable on constate que la variable \"PatientId\" doit être transformé en type entier, les variables \"ScheduledDay\" et \"AppointmentDay\" en type date et les variables 'Scholarship', 'Hipertension','Diabetes', 'Alcoholism', 'Handcap', 'SMS_received' en type string car ce sont des variables binaires. Il est aussi a noté que notre base ne contient pas de valeurs manquantes, ni de lignes dupliqués. Par ailleurs la variable 'Handicap' sera supprimé pour des raisons évoquées ci-dessus."
   ]
  },
  {
   "cell_type": "markdown",
   "metadata": {},
   "source": [
    "### Nettoyage des données"
   ]
  },
  {
   "cell_type": "code",
   "execution_count": 9,
   "metadata": {},
   "outputs": [],
   "source": [
    "#Traduction des variables en francais\n",
    "\n",
    "df.rename(columns={'PatientId':'id_patient', 'AppointmentID':'id_rendez_vous', 'Gender':'sexe', 'ScheduledDay':'jour_prevu', \n",
    " 'AppointmentDay':'jour_rendez_vous', 'Age':'age', 'Neighbourhood':'quartier', 'Scholarship':'bourse', \n",
    " 'Hipertension':'hypertension', 'Diabetes':'diabete', 'Alcoholism':'alcoolisme', 'Handcap':'handicap', \n",
    " 'SMS_received':'sms_recu', 'No-show':'non_present'}, inplace=True)"
   ]
  },
  {
   "cell_type": "code",
   "execution_count": 10,
   "metadata": {},
   "outputs": [],
   "source": [
    "#Convertir les colonnes du type int\n",
    "df['id_patient'] = df['id_patient'].astype(int)"
   ]
  },
  {
   "cell_type": "code",
   "execution_count": 11,
   "metadata": {},
   "outputs": [],
   "source": [
    "#Convertir les colonnes du type date\n",
    "df['jour_prevu'] = pd.to_datetime(df['jour_prevu'])\n",
    "df['jour_rendez_vous'] = pd.to_datetime(df['jour_rendez_vous'])"
   ]
  },
  {
   "cell_type": "code",
   "execution_count": 12,
   "metadata": {},
   "outputs": [],
   "source": [
    "#convertir les colonnes du types objet\n",
    "binaire = ['bourse', 'hypertension', 'diabete', 'alcoolisme', 'handicap', 'sms_recu']\n",
    "for var in binaire:\n",
    "    df[var] = df[var].astype(object)"
   ]
  },
  {
   "cell_type": "code",
   "execution_count": 13,
   "metadata": {
    "scrolled": true
   },
   "outputs": [
    {
     "data": {
      "text/plain": [
       "id_patient                        int32\n",
       "id_rendez_vous                    int64\n",
       "sexe                             object\n",
       "jour_prevu          datetime64[ns, UTC]\n",
       "jour_rendez_vous    datetime64[ns, UTC]\n",
       "age                               int64\n",
       "quartier                         object\n",
       "bourse                           object\n",
       "hypertension                     object\n",
       "diabete                          object\n",
       "alcoolisme                       object\n",
       "handicap                         object\n",
       "sms_recu                         object\n",
       "non_present                      object\n",
       "dtype: object"
      ]
     },
     "execution_count": 13,
     "metadata": {},
     "output_type": "execute_result"
    }
   ],
   "source": [
    "#vérification\n",
    "df.dtypes"
   ]
  },
  {
   "cell_type": "code",
   "execution_count": 14,
   "metadata": {},
   "outputs": [],
   "source": [
    "#Renommer les modalités de variables binaires\n",
    "df['non_present'] = df['non_present'].map({'No': 'Non', 'Yes':'Oui'})\n",
    "for var in binaire:\n",
    "    df[var] = df[var].map({0:'Faux', 1:'Vrai'})"
   ]
  },
  {
   "cell_type": "code",
   "execution_count": 15,
   "metadata": {},
   "outputs": [],
   "source": [
    "#Supression de la variable \"handicap\"\n",
    "df.drop('handicap', axis = 1, inplace=True)"
   ]
  },
  {
   "cell_type": "code",
   "execution_count": 16,
   "metadata": {
    "scrolled": false
   },
   "outputs": [
    {
     "data": {
      "text/html": [
       "<div>\n",
       "<style scoped>\n",
       "    .dataframe tbody tr th:only-of-type {\n",
       "        vertical-align: middle;\n",
       "    }\n",
       "\n",
       "    .dataframe tbody tr th {\n",
       "        vertical-align: top;\n",
       "    }\n",
       "\n",
       "    .dataframe thead th {\n",
       "        text-align: right;\n",
       "    }\n",
       "</style>\n",
       "<table border=\"1\" class=\"dataframe\">\n",
       "  <thead>\n",
       "    <tr style=\"text-align: right;\">\n",
       "      <th></th>\n",
       "      <th>id_patient</th>\n",
       "      <th>id_rendez_vous</th>\n",
       "      <th>sexe</th>\n",
       "      <th>jour_prevu</th>\n",
       "      <th>jour_rendez_vous</th>\n",
       "      <th>age</th>\n",
       "      <th>quartier</th>\n",
       "      <th>bourse</th>\n",
       "      <th>hypertension</th>\n",
       "      <th>diabete</th>\n",
       "      <th>alcoolisme</th>\n",
       "      <th>sms_recu</th>\n",
       "      <th>non_present</th>\n",
       "    </tr>\n",
       "  </thead>\n",
       "  <tbody>\n",
       "    <tr>\n",
       "      <th>0</th>\n",
       "      <td>-2147483648</td>\n",
       "      <td>5642903</td>\n",
       "      <td>F</td>\n",
       "      <td>2016-04-29 18:38:08+00:00</td>\n",
       "      <td>2016-04-29 00:00:00+00:00</td>\n",
       "      <td>62</td>\n",
       "      <td>JARDIM DA PENHA</td>\n",
       "      <td>Faux</td>\n",
       "      <td>Vrai</td>\n",
       "      <td>Faux</td>\n",
       "      <td>Faux</td>\n",
       "      <td>Faux</td>\n",
       "      <td>Non</td>\n",
       "    </tr>\n",
       "    <tr>\n",
       "      <th>1</th>\n",
       "      <td>-2147483648</td>\n",
       "      <td>5642503</td>\n",
       "      <td>M</td>\n",
       "      <td>2016-04-29 16:08:27+00:00</td>\n",
       "      <td>2016-04-29 00:00:00+00:00</td>\n",
       "      <td>56</td>\n",
       "      <td>JARDIM DA PENHA</td>\n",
       "      <td>Faux</td>\n",
       "      <td>Faux</td>\n",
       "      <td>Faux</td>\n",
       "      <td>Faux</td>\n",
       "      <td>Faux</td>\n",
       "      <td>Non</td>\n",
       "    </tr>\n",
       "    <tr>\n",
       "      <th>2</th>\n",
       "      <td>-2147483648</td>\n",
       "      <td>5642549</td>\n",
       "      <td>F</td>\n",
       "      <td>2016-04-29 16:19:04+00:00</td>\n",
       "      <td>2016-04-29 00:00:00+00:00</td>\n",
       "      <td>62</td>\n",
       "      <td>MATA DA PRAIA</td>\n",
       "      <td>Faux</td>\n",
       "      <td>Faux</td>\n",
       "      <td>Faux</td>\n",
       "      <td>Faux</td>\n",
       "      <td>Faux</td>\n",
       "      <td>Non</td>\n",
       "    </tr>\n",
       "    <tr>\n",
       "      <th>3</th>\n",
       "      <td>-2147483648</td>\n",
       "      <td>5642828</td>\n",
       "      <td>F</td>\n",
       "      <td>2016-04-29 17:29:31+00:00</td>\n",
       "      <td>2016-04-29 00:00:00+00:00</td>\n",
       "      <td>8</td>\n",
       "      <td>PONTAL DE CAMBURI</td>\n",
       "      <td>Faux</td>\n",
       "      <td>Faux</td>\n",
       "      <td>Faux</td>\n",
       "      <td>Faux</td>\n",
       "      <td>Faux</td>\n",
       "      <td>Non</td>\n",
       "    </tr>\n",
       "    <tr>\n",
       "      <th>4</th>\n",
       "      <td>-2147483648</td>\n",
       "      <td>5642494</td>\n",
       "      <td>F</td>\n",
       "      <td>2016-04-29 16:07:23+00:00</td>\n",
       "      <td>2016-04-29 00:00:00+00:00</td>\n",
       "      <td>56</td>\n",
       "      <td>JARDIM DA PENHA</td>\n",
       "      <td>Faux</td>\n",
       "      <td>Vrai</td>\n",
       "      <td>Vrai</td>\n",
       "      <td>Faux</td>\n",
       "      <td>Faux</td>\n",
       "      <td>Non</td>\n",
       "    </tr>\n",
       "  </tbody>\n",
       "</table>\n",
       "</div>"
      ],
      "text/plain": [
       "   id_patient  id_rendez_vous sexe                jour_prevu  \\\n",
       "0 -2147483648         5642903    F 2016-04-29 18:38:08+00:00   \n",
       "1 -2147483648         5642503    M 2016-04-29 16:08:27+00:00   \n",
       "2 -2147483648         5642549    F 2016-04-29 16:19:04+00:00   \n",
       "3 -2147483648         5642828    F 2016-04-29 17:29:31+00:00   \n",
       "4 -2147483648         5642494    F 2016-04-29 16:07:23+00:00   \n",
       "\n",
       "           jour_rendez_vous  age           quartier bourse hypertension  \\\n",
       "0 2016-04-29 00:00:00+00:00   62    JARDIM DA PENHA   Faux         Vrai   \n",
       "1 2016-04-29 00:00:00+00:00   56    JARDIM DA PENHA   Faux         Faux   \n",
       "2 2016-04-29 00:00:00+00:00   62      MATA DA PRAIA   Faux         Faux   \n",
       "3 2016-04-29 00:00:00+00:00    8  PONTAL DE CAMBURI   Faux         Faux   \n",
       "4 2016-04-29 00:00:00+00:00   56    JARDIM DA PENHA   Faux         Vrai   \n",
       "\n",
       "  diabete alcoolisme sms_recu non_present  \n",
       "0    Faux       Faux     Faux         Non  \n",
       "1    Faux       Faux     Faux         Non  \n",
       "2    Faux       Faux     Faux         Non  \n",
       "3    Faux       Faux     Faux         Non  \n",
       "4    Vrai       Faux     Faux         Non  "
      ]
     },
     "execution_count": 16,
     "metadata": {},
     "output_type": "execute_result"
    }
   ],
   "source": [
    "#Vérification\n",
    "df.head()"
   ]
  },
  {
   "cell_type": "markdown",
   "metadata": {},
   "source": [
    "<a id='eda'></a>\n",
    "## Analyse exploratoire des données\n",
    "\n",
    "\n",
    "\n",
    "### Question 1:Quel est la proportion des patients qui ne se sont pas présentés aux rendez-vous ?"
   ]
  },
  {
   "cell_type": "code",
   "execution_count": 17,
   "metadata": {
    "scrolled": false
   },
   "outputs": [
    {
     "data": {
      "text/plain": [
       "Non    79.806744\n",
       "Oui    20.193256\n",
       "Name: non_present, dtype: float64"
      ]
     },
     "execution_count": 17,
     "metadata": {},
     "output_type": "execute_result"
    }
   ],
   "source": [
    "#Proportion des oui et non pour la variable non_present\n",
    "df['non_present'].value_counts()*100/df.shape[0]"
   ]
  },
  {
   "cell_type": "markdown",
   "metadata": {},
   "source": [
    ">Dans la suite de notre travail nous allons utiliser trois fois la représentation graphique sous forme de camenbert. Pour éviter de répéter les codes, nous créons la fonction **graph_pie** qui répresente le camenbert en lui fournissant les données et le titre du graphique. Ainsi nous allons appeller cette fonction chaque fois que nous allons représenter un camenbert. Le choix de ce graphique pour présenter nos résultats est cette possibilité qu'il nous donne dans la visualisation claire de la part de chaque modalité de notre variable."
   ]
  },
  {
   "cell_type": "code",
   "execution_count": 18,
   "metadata": {},
   "outputs": [],
   "source": [
    "#Creation de la fonction qui trace le camnbert\n",
    "\n",
    "def graph_pie(data, title):\n",
    "    labels = 'Non', 'Oui'\n",
    "    explode = (0, 0.1)  # only \"explode\" the 2nd slice \n",
    "\n",
    "    fig1, ax1 = plt.subplots()\n",
    "    ax1.pie(data, explode=explode, labels=labels, autopct='%1.1f%%',\n",
    "        shadow=True, startangle=90)\n",
    "    ax1.axis('equal')  # Equal aspect ratio ensures that pie is drawn as a circle.\n",
    "    ax1.set_title(title)\n",
    "\n",
    "    return plt.show()"
   ]
  },
  {
   "cell_type": "code",
   "execution_count": 19,
   "metadata": {},
   "outputs": [
    {
     "data": {
      "image/png": "[encoded data removed]",
      "text/plain": [
       "<Figure size 432x288 with 1 Axes>"
      ]
     },
     "metadata": {},
     "output_type": "display_data"
    }
   ],
   "source": [
    "data = df['non_present'].value_counts()\n",
    "graph_pie(data, \"Proportion des Non Presentés\")"
   ]
  },
  {
   "cell_type": "markdown",
   "metadata": {},
   "source": [
    "> Sur les 110527 patients qui ont eu un rendez-vous médical au Brésil seul 20,2% n'ont pas répondu présent a leur rendez-vous."
   ]
  },
  {
   "cell_type": "markdown",
   "metadata": {},
   "source": [
    "### Question 2 :Quel est le nombre de personnes qui ont bénéficiées de l'aide sociale ?"
   ]
  },
  {
   "cell_type": "code",
   "execution_count": 20,
   "metadata": {
    "scrolled": true
   },
   "outputs": [
    {
     "data": {
      "text/plain": [
       "Faux    99666\n",
       "Vrai    10861\n",
       "Name: bourse, dtype: int64"
      ]
     },
     "execution_count": 20,
     "metadata": {},
     "output_type": "execute_result"
    }
   ],
   "source": [
    "#Proportion des personnes qui ont recu l'aide sociale \n",
    "df['bourse'].value_counts()"
   ]
  },
  {
   "cell_type": "code",
   "execution_count": 21,
   "metadata": {
    "scrolled": true
   },
   "outputs": [
    {
     "data": {
      "image/png": "[encoded data removed]",
      "text/plain": [
       "<Figure size 432x288 with 1 Axes>"
      ]
     },
     "metadata": {
      "needs_background": "light"
     },
     "output_type": "display_data"
    }
   ],
   "source": [
    "#Visualisation\n",
    "data = df['bourse'].value_counts()*100/df.shape[0]\n",
    "labels = ['Faux', 'Vrai']\n",
    "plt.xticks(range(len(data)), labels)\n",
    "plt.xlabel('Bourse')\n",
    "plt.ylabel('Proportion')\n",
    "plt.title(\"Proportion des patients qui ont reçu l'aide sociale\")\n",
    "plt.bar(range(len(data)), data) \n",
    "plt.show()"
   ]
  },
  {
   "cell_type": "markdown",
   "metadata": {},
   "source": [
    "> Près de 90 % des patients enregistrés n'ont pas reçu l'aide sociale."
   ]
  },
  {
   "cell_type": "markdown",
   "metadata": {},
   "source": [
    "### Question 3 :Quel est la proportion des hommes et des femmes?"
   ]
  },
  {
   "cell_type": "code",
   "execution_count": 22,
   "metadata": {
    "scrolled": true
   },
   "outputs": [
    {
     "data": {
      "text/plain": [
       "F    64.997693\n",
       "M    35.002307\n",
       "Name: sexe, dtype: float64"
      ]
     },
     "execution_count": 22,
     "metadata": {},
     "output_type": "execute_result"
    }
   ],
   "source": [
    "#Proportion par sexe\n",
    "df['sexe'].value_counts()*100/df.shape[0]"
   ]
  },
  {
   "cell_type": "code",
   "execution_count": 23,
   "metadata": {},
   "outputs": [
    {
     "data": {
      "image/png": "[encoded data removed]",
      "text/plain": [
       "<Figure size 432x288 with 1 Axes>"
      ]
     },
     "metadata": {},
     "output_type": "display_data"
    }
   ],
   "source": [
    "data = df['sexe'].value_counts()\n",
    "graph_pie(data, \"Proportion des patients par sexe\")"
   ]
  },
  {
   "cell_type": "markdown",
   "metadata": {},
   "source": [
    "> 65% des patients ayant pris un rendez-vous médical sont des femmes."
   ]
  },
  {
   "cell_type": "markdown",
   "metadata": {},
   "source": [
    "### Question 4 :Quel est l'effectif des non presents aux rendez-vous par sexe?"
   ]
  },
  {
   "cell_type": "code",
   "execution_count": 24,
   "metadata": {
    "scrolled": true
   },
   "outputs": [
    {
     "data": {
      "text/plain": [
       "sexe  non_present\n",
       "F     Non            57246\n",
       "      Oui            14594\n",
       "M     Non            30962\n",
       "      Oui             7725\n",
       "Name: non_present, dtype: int64"
      ]
     },
     "execution_count": 24,
     "metadata": {},
     "output_type": "execute_result"
    }
   ],
   "source": [
    "#Effectif des non présent par sexe\n",
    "df.groupby('sexe')['non_present'].value_counts()"
   ]
  },
  {
   "cell_type": "code",
   "execution_count": 25,
   "metadata": {},
   "outputs": [
    {
     "data": {
      "image/png": "[encoded data removed]",
      "text/plain": [
       "<Figure size 432x288 with 1 Axes>"
      ]
     },
     "metadata": {
      "needs_background": "light"
     },
     "output_type": "display_data"
    }
   ],
   "source": [
    "#Visualisation\n",
    "N = 2\n",
    "sex_np = df.groupby('sexe')['non_present'].value_counts()\n",
    "femme = (sex_np[0], sex_np[1])\n",
    "mascu = (sex_np[2], sex_np[3])\n",
    "\n",
    "ind = np.arange(N) \n",
    "width = 0.35       \n",
    "plt.bar(ind, femme, width, label='Femme')\n",
    "plt.bar(ind + width, mascu, width,\n",
    "    label='Homme')\n",
    "plt.xlabel('Non_present')\n",
    "plt.ylabel('Effectif')\n",
    "plt.title('Effectif des non_present par sexe')\n",
    "\n",
    "plt.xticks(ind + width / 2, ('Non', 'Oui',))\n",
    "plt.legend(loc='best')\n",
    "plt.show()"
   ]
  },
  {
   "cell_type": "markdown",
   "metadata": {},
   "source": [
    "> La majorité des personnes qui se sont présentées à leur rendez-vous (modalité 'Non') sont des femmes (57246 pour les femmes contre 30962 pour les hommes. Voir graphique). Apparement les femmes se soucies plus de leur santé que les hommes. L'intérêt de ce graphique est de faire une comparaison directe des effectifs des Hommes et des femmes pour chaque modalité de la variable 'Non_present'."
   ]
  },
  {
   "cell_type": "markdown",
   "metadata": {},
   "source": [
    "### Question 5 :Quel est l'effectif des non presents aux rendez-vous qui ont recu une bourse?"
   ]
  },
  {
   "cell_type": "code",
   "execution_count": 26,
   "metadata": {
    "scrolled": true
   },
   "outputs": [
    {
     "data": {
      "text/plain": [
       "bourse  non_present\n",
       "Faux    Non            79925\n",
       "        Oui            19741\n",
       "Vrai    Non             8283\n",
       "        Oui             2578\n",
       "Name: non_present, dtype: int64"
      ]
     },
     "execution_count": 26,
     "metadata": {},
     "output_type": "execute_result"
    }
   ],
   "source": [
    "#effectif des non_present qui ont reçu l'aide sociale\n",
    "bour_np = df.groupby('bourse')['non_present'].value_counts()\n",
    "bour_np"
   ]
  },
  {
   "cell_type": "code",
   "execution_count": 27,
   "metadata": {},
   "outputs": [
    {
     "data": {
      "image/png": "[encoded data removed]",
      "text/plain": [
       "<Figure size 432x288 with 1 Axes>"
      ]
     },
     "metadata": {
      "needs_background": "light"
     },
     "output_type": "display_data"
    }
   ],
   "source": [
    "#Visualisation\n",
    "N = 2\n",
    "bour_faux = (bour_np[0], bour_np[1])\n",
    "bour_vrai = (bour_np[2], bour_np[3])\n",
    "ind = np.arange(N) # the x locations for the groups\n",
    "width = 0.35\n",
    "fig = plt.figure()\n",
    "ax = fig.add_axes([0,0,0.8,0.8])\n",
    "ax.bar(ind, bour_faux, width)\n",
    "ax.bar(ind, bour_vrai, width,bottom=bour_faux)\n",
    "ax.set_xlabel('Non_present')\n",
    "ax.set_ylabel('Effectif')\n",
    "ax.set_title('Effectif des patients Boursier par non_present')\n",
    "ax.set_xticks(ind, ('Non', 'Oui'))\n",
    "ax.legend(labels=['Faux', 'Vrai'])\n",
    "plt.show()"
   ]
  },
  {
   "cell_type": "markdown",
   "metadata": {},
   "source": [
    "> La majorité des personnes qui se sont présentées à leur rendez-vous médical (Modalité 'Non') sont des non bénificiaire de l'aide sociale (Voir graphique). "
   ]
  },
  {
   "cell_type": "markdown",
   "metadata": {},
   "source": [
    "### Question 6 :Quel est la proportion des patients ayant recu 1 ou plusieurs SMS par non presenté?"
   ]
  },
  {
   "cell_type": "code",
   "execution_count": 28,
   "metadata": {},
   "outputs": [
    {
     "data": {
      "text/plain": [
       "Non    72.425455\n",
       "Oui    27.574545\n",
       "Name: non_present, dtype: float64"
      ]
     },
     "execution_count": 28,
     "metadata": {},
     "output_type": "execute_result"
    }
   ],
   "source": [
    "#Effectif des patients ayant reçu un ou plusieurs sms par rapport la variable non_present\n",
    "sms = df.query('sms_recu == \"Vrai\"')['non_present']\n",
    "sms.value_counts()*100/sms.shape[0]"
   ]
  },
  {
   "cell_type": "code",
   "execution_count": 29,
   "metadata": {},
   "outputs": [
    {
     "data": {
      "image/png": "[encoded data removed]",
      "text/plain": [
       "<Figure size 432x288 with 1 Axes>"
      ]
     },
     "metadata": {},
     "output_type": "display_data"
    }
   ],
   "source": [
    "data = df.query('sms_recu == \"Vrai\"')['non_present'].value_counts()\n",
    "graph_pie(data, \"Proportion des patients ayant reçu au moins un sms par non_present\")"
   ]
  },
  {
   "cell_type": "markdown",
   "metadata": {},
   "source": [
    "> Des patients qui ont reçu un ou plusieurs sms, seul 27,6% n'ont pas répondu présent au rendez-vous contre 72,4% qui se sont présentés. Il semblerai que le fait de recevoir un ou plusieurs messages de rappel, insite vraiment les patients à se présentrer à leur rendez-vous."
   ]
  },
  {
   "cell_type": "markdown",
   "metadata": {},
   "source": [
    "### Question 7:  Qui des personnes atteintes des malidies d'hypertension, de diabète et d'alcoolisme ont le plus honoreux à leur rendez-vous?"
   ]
  },
  {
   "cell_type": "code",
   "execution_count": 30,
   "metadata": {},
   "outputs": [],
   "source": [
    "#selection des patients qui ont repondus present à leur rendez-vous suivant les varibles \n",
    "#'hypertension', 'diabete' et 'alcoolisme'\n",
    "maladie = df.query('non_present == \"Non\"').loc[:,'hypertension':'alcoolisme']"
   ]
  },
  {
   "cell_type": "code",
   "execution_count": 31,
   "metadata": {},
   "outputs": [
    {
     "data": {
      "image/png": "[encoded data removed]",
      "text/plain": [
       "<Figure size 432x288 with 1 Axes>"
      ]
     },
     "metadata": {
      "needs_background": "light"
     },
     "output_type": "display_data"
    }
   ],
   "source": [
    "#Visalisation\n",
    "hyper = maladie['hypertension'].value_counts()\n",
    "diab = maladie['diabete'].value_counts()\n",
    "alco = maladie['alcoolisme'].value_counts()\n",
    "\n",
    "X = ['hypertension','diabète ','alcoolisme']\n",
    "faux = [hyper[0], diab[0], alco[0]]\n",
    "vrai = [hyper[1], diab[1], alco[1]]\n",
    "  \n",
    "X_axis = np.arange(len(X))\n",
    "  \n",
    "plt.bar(X_axis - 0.2, faux, 0.4, label = 'Faux')\n",
    "plt.bar(X_axis + 0.2, vrai, 0.4, label = 'Vrai')\n",
    "  \n",
    "plt.xticks(X_axis, X)\n",
    "plt.xlabel(\"Maladie\")\n",
    "plt.ylabel(\"Effectif\")\n",
    "plt.title(\"Patients presents au rendez-vous par maladie\")\n",
    "plt.legend()\n",
    "plt.show()"
   ]
  },
  {
   "cell_type": "markdown",
   "metadata": {},
   "source": [
    "> Des personnes qui se sont présentées à leur rendez-vous et qui sont atteintes des maladies comme l'hypertention, le diabète ou l'alcoolisme, ce sont ceux qui sont souffre d'hypertension qui ont le plus repondu present à la leur rendez-vous à l'opposé des alcoolismes."
   ]
  },
  {
   "cell_type": "markdown",
   "metadata": {},
   "source": [
    "<a id='conclusions'></a>\n",
    "## Conclusions\n"
   ]
  },
  {
   "cell_type": "markdown",
   "metadata": {},
   "source": [
    "> A la suite des questions que nous nous sommes posées nous pouvons conclure ainsi:\n",
    ">- Près de 80% des patients se sont présentés à leur rendez-vous.\n",
    ">- De ceux qui ont eu un rendez-vous, la majorité sont des femmes.\n",
    ">- Les femmes semble se souciée plus de leur santé que les hommes.\n",
    ">- Peu de personnes reçoivent de l'aide sociale.\n",
    ">- Le fait de recevoir ou non un message de l'hôpital semble influencer la décision de se presenter ou pas au rendez vous medical.\n",
    ">- Les personnes souffrant d'hypertension se presente le plus à leur rendez-vous que des personnes atteintes du diabète ou d'alcoolisme."
   ]
  },
  {
   "cell_type": "markdown",
   "metadata": {},
   "source": [
    "<a id='limites'></a>\n",
    "## Limites"
   ]
  },
  {
   "cell_type": "markdown",
   "metadata": {},
   "source": [
    ">Nous sommes conscients que notre analyse serait d’autant plus raffinée si la disponibilité et la structure de nos données nous permettaient d’explorer certains éléments. Les limites de notre analyse sont les suivantes:\n",
    ">- La qualité des données ne nous a pas permit d'explorer la variable 'handicap'; il serait interessant de voir si l'handicap constitue un frein à la présence ou non d'un rendez-vous médical.\n",
    ">- Nous n'avons pas pu explorer la variable 'Neighborhood' (quartier) qui indique la localisation de l'hôpital. Il serait aussi intéressant de voir quels sont les hopitaux qui enregistrent le plus de présence au rendez-vous et voir les raisons qui soutendent ces présences, est-ce la qualité de ces hopitaux ? de leurs services...?\n",
    ">- L'existence d'une variable prenant en compte la distance entre le lieu d'habitation du patient et l'hôpital où il a eu un rendez-vous pouvait nous aider aussi à comprendre la présence ou non au rendez-vous des patients. "
   ]
  }
 ],
 "metadata": {
  "kernelspec": {
   "display_name": "Python 3 (ipykernel)",
   "language": "python",
   "name": "python3"
  },
  "language_info": {
   "codemirror_mode": {
    "name": "ipython",
    "version": 3
   },
   "file_extension": ".py",
   "mimetype": "text/x-python",
   "name": "python",
   "nbconvert_exporter": "python",
   "pygments_lexer": "ipython3",
   "version": "3.7.0"
  }
 },
 "nbformat": 4,
 "nbformat_minor": 2
}
